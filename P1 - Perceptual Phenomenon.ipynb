{
 "cells": [
  {
   "cell_type": "markdown",
   "metadata": {},
   "source": [
    "# Project 1\n",
    "## Test a Perceptual Phenomenon : Stroop Effect"
   ]
  },
  {
   "cell_type": "code",
   "execution_count": 101,
   "metadata": {
    "collapsed": false
   },
   "outputs": [],
   "source": [
    "import matplotlib\n",
    "import numpy as np\n",
    "import pandas as pd\n",
    "import matplotlib.pyplot as plt\n",
    "%matplotlib inline  "
   ]
  },
  {
   "cell_type": "markdown",
   "metadata": {},
   "source": [
    "### Background Information\n",
    "\n",
    "In a Stroop task, participants are presented with a list of words, with each word displayed in a color of ink. The participant’s task is to say out loud the color of the ink in which the word is printed. The task has two conditions: a congruent words condition, and an incongruent words condition. In the congruent words condition, the words being displayed are color words whose names match the colors in which they are printed: for example RED, BLUE. In the incongruent words condition, the words displayed are color words whose names do not match the colors in which they are printed: for example PURPLE, ORANGE. In each case, we measure the time it takes to name the ink colors in equally-sized lists. Each participant will go through and record a time from each condition."
   ]
  },
  {
   "cell_type": "markdown",
   "metadata": {},
   "source": [
    "You can find the dataset by clicking on this [link](https://www.google.com/url?q=https://drive.google.com/file/d/0B9Yf01UaIbUgQXpYb2NhZ29yX1U/view?usp%3Dsharing&sa=D&usg=AFQjCNGAjbK9VYD5GsQ8c_iRT9zH9QdOVg)"
   ]
  },
  {
   "cell_type": "code",
   "execution_count": 102,
   "metadata": {
    "collapsed": false
   },
   "outputs": [
    {
     "data": {
      "text/html": [
       "<div style=\"max-height:1000px;max-width:1500px;overflow:auto;\">\n",
       "<table border=\"1\" class=\"dataframe\">\n",
       "  <thead>\n",
       "    <tr style=\"text-align: right;\">\n",
       "      <th></th>\n",
       "      <th>Congruent</th>\n",
       "      <th>Incongruent</th>\n",
       "    </tr>\n",
       "  </thead>\n",
       "  <tbody>\n",
       "    <tr>\n",
       "      <th>0</th>\n",
       "      <td> 12.079</td>\n",
       "      <td> 19.278</td>\n",
       "    </tr>\n",
       "    <tr>\n",
       "      <th>1</th>\n",
       "      <td> 16.791</td>\n",
       "      <td> 18.741</td>\n",
       "    </tr>\n",
       "    <tr>\n",
       "      <th>2</th>\n",
       "      <td>  9.564</td>\n",
       "      <td> 21.214</td>\n",
       "    </tr>\n",
       "    <tr>\n",
       "      <th>3</th>\n",
       "      <td>  8.630</td>\n",
       "      <td> 15.687</td>\n",
       "    </tr>\n",
       "    <tr>\n",
       "      <th>4</th>\n",
       "      <td> 14.669</td>\n",
       "      <td> 22.803</td>\n",
       "    </tr>\n",
       "  </tbody>\n",
       "</table>\n",
       "</div>"
      ],
      "text/plain": [
       "   Congruent  Incongruent\n",
       "0     12.079       19.278\n",
       "1     16.791       18.741\n",
       "2      9.564       21.214\n",
       "3      8.630       15.687\n",
       "4     14.669       22.803"
      ]
     },
     "execution_count": 102,
     "metadata": {},
     "output_type": "execute_result"
    }
   ],
   "source": [
    "data=pd.read_csv('stroopdata.csv')\n",
    "data.head()"
   ]
  },
  {
   "cell_type": "code",
   "execution_count": 103,
   "metadata": {
    "collapsed": false
   },
   "outputs": [
    {
     "name": "stdout",
     "output_type": "stream",
     "text": [
      "Number of participants: 24\n"
     ]
    }
   ],
   "source": [
    "print \"Number of participants:\", len(data)"
   ]
  },
  {
   "cell_type": "markdown",
   "metadata": {},
   "source": [
    "### Question 1: What is our independent variable? What is our dependent variable?\n",
    "\n",
    "The independent variable is the two conditions: a congruent word condition and an incongruent word condition.\n",
    "\n",
    "The dependent variable is: the time it takes to name the ink colors in equally-sized lists"
   ]
  },
  {
   "cell_type": "markdown",
   "metadata": {},
   "source": [
    "### Question 2:  What is an appropriate set of hypotheses for this task? What kind of statistical test do you expect to perform? Justify your choices.\n",
    "\n",
    "The null hypothesis could be: there is no difference in the population mean time to read the color list between the congruent group and the incongruent group.\n",
    "\n",
    "Alternative hypothesis: the population mean time to read the color list is different between the congruent group and the incongruent group.\n",
    "\n",
    "Each participant will go through and record a time from each condition. So we should perform a dependent t-test for paired samples (two samples, two-tail). "
   ]
  },
  {
   "cell_type": "markdown",
   "metadata": {},
   "source": [
    "### Question 3: Report some descriptive statistics regarding this dataset. Include at least one measure of central tendency and at least one measure of variability.\n",
    "\n",
    "To measure the central tendency we can use the mean:"
   ]
  },
  {
   "cell_type": "code",
   "execution_count": 104,
   "metadata": {
    "collapsed": false
   },
   "outputs": [
    {
     "name": "stdout",
     "output_type": "stream",
     "text": [
      "Mean of the time to read for the Congruent group:  14.051125\n",
      "Mean of the time to read for the Incongruent group:  22.0159166667\n"
     ]
    }
   ],
   "source": [
    "Xc=data.Congruent.mean()\n",
    "print 'Mean of the time to read for the Congruent group: ', Xc\n",
    "\n",
    "Xinc=data.Incongruent.mean()\n",
    "print 'Mean of the time to read for the Incongruent group: ', Xinc"
   ]
  },
  {
   "cell_type": "markdown",
   "metadata": {},
   "source": [
    "However the mean can be affected by outliers that’s why it’s interesting to compute the median:"
   ]
  },
  {
   "cell_type": "code",
   "execution_count": 105,
   "metadata": {
    "collapsed": false
   },
   "outputs": [
    {
     "name": "stdout",
     "output_type": "stream",
     "text": [
      "Median of the time to read for the Congruent group:  14.3565\n",
      "Median of the time to read for the Incongruent group:  21.0175\n"
     ]
    }
   ],
   "source": [
    "Median_c=data.Congruent.median()\n",
    "print 'Median of the time to read for the Congruent group: ', Median_c\n",
    "Median_Inc=data.Incongruent.median()\n",
    "print 'Median of the time to read for the Incongruent group: ', Median_Inc"
   ]
  },
  {
   "cell_type": "markdown",
   "metadata": {},
   "source": [
    "To measure the variability of the dataset, we can use standard deviation:"
   ]
  },
  {
   "cell_type": "code",
   "execution_count": 106,
   "metadata": {
    "collapsed": false
   },
   "outputs": [
    {
     "name": "stdout",
     "output_type": "stream",
     "text": [
      "Standard deviation of the time to read for the Congruent group:  3.55935795765\n",
      "Standard deviation of the time to read for the Incongruent group:  4.79705712247\n"
     ]
    }
   ],
   "source": [
    "Std_c=data.Congruent.std()\n",
    "print 'Standard deviation of the time to read for the Congruent group: ', Std_c\n",
    "Std_inc=data.Incongruent.std()\n",
    "print 'Standard deviation of the time to read for the Incongruent group: ', Std_inc"
   ]
  },
  {
   "cell_type": "markdown",
   "metadata": {},
   "source": [
    "### Question 4:  provide one or two visualizations that show the distribution of the sample data. Write one or two sentences noting what you observe about the plot or plots."
   ]
  },
  {
   "cell_type": "code",
   "execution_count": 107,
   "metadata": {
    "collapsed": false
   },
   "outputs": [
    {
     "data": {
      "image/png": "[encoded data removed]",
      "text/plain": [
       "<matplotlib.figure.Figure at 0x10ab9c450>"
      ]
     },
     "metadata": {},
     "output_type": "display_data"
    }
   ],
   "source": [
    "plt.hist(data.Congruent,bins=8)\n",
    "plt.title('Histogram of the time it takes to name the ink colors for the congruent group')\n",
    "plt.ylabel('Frequency')\n",
    "plt.xlabel('Time it takes to name the ink colors')\n",
    "plt.show()"
   ]
  },
  {
   "cell_type": "markdown",
   "metadata": {},
   "source": [
    "The histogram is centered around 14 seconds with minimum around 9 and maximum around 22."
   ]
  },
  {
   "cell_type": "code",
   "execution_count": 108,
   "metadata": {
    "collapsed": false
   },
   "outputs": [
    {
     "data": {
      "image/png": "[encoded data removed]",
      "text/plain": [
       "<matplotlib.figure.Figure at 0x10ab9c9d0>"
      ]
     },
     "metadata": {},
     "output_type": "display_data"
    }
   ],
   "source": [
    "plt.hist(data.Incongruent,bins=8)\n",
    "plt.title('Histogram of the time it takes to name the ink colors for the incongruent group')\n",
    "plt.ylabel('Frequency')\n",
    "plt.xlabel('Time it takes to name the ink colors')\n",
    "plt.show()"
   ]
  },
  {
   "cell_type": "markdown",
   "metadata": {},
   "source": [
    "The histogram is centered around 23 seconds and there are outliers around 34 seconds."
   ]
  },
  {
   "cell_type": "markdown",
   "metadata": {},
   "source": [
    "### Question 5. Now, perform the statistical test and report your results. What is your confidence level and your critical statistic value? Do you reject the null hypothesis or fail to reject it? Come to a conclusion in terms of the experiment task. Did the results match up with your expectations?\n"
   ]
  },
  {
   "cell_type": "code",
   "execution_count": 109,
   "metadata": {
    "collapsed": false
   },
   "outputs": [
    {
     "name": "stdout",
     "output_type": "stream",
     "text": [
      "The point estimate (Xc-Xinc) is: -7.96479166667\n"
     ]
    }
   ],
   "source": [
    "print \"The point estimate (Xc-Xinc) is:\",Xc-Xinc"
   ]
  },
  {
   "cell_type": "markdown",
   "metadata": {},
   "source": [
    "Then we calculate the standard deviation of the difference in time between the congruent condition and the incongruent condition for each individual:"
   ]
  },
  {
   "cell_type": "code",
   "execution_count": 110,
   "metadata": {
    "collapsed": false
   },
   "outputs": [
    {
     "name": "stdout",
     "output_type": "stream",
     "text": [
      "S = 4.86482691036\n"
     ]
    }
   ],
   "source": [
    "S=(data.Congruent-data.Incongruent).std()\n",
    "print \"S =\",S"
   ]
  },
  {
   "cell_type": "markdown",
   "metadata": {},
   "source": [
    "So the t-statistic is:"
   ]
  },
  {
   "cell_type": "code",
   "execution_count": 111,
   "metadata": {
    "collapsed": false
   },
   "outputs": [
    {
     "name": "stdout",
     "output_type": "stream",
     "text": [
      "The t_statistic is: -8.02070694411\n"
     ]
    }
   ],
   "source": [
    "t_statistic=(Xc-Xinc)/(S/sqrt(len(data)))\n",
    "print \"The t_statistic is:\",t_statistic"
   ]
  },
  {
   "cell_type": "markdown",
   "metadata": {},
   "source": [
    "For alpha= 0.05 so 0.025 for each tail with 23 degree of freedom, t-critical = positive and negative 2.069. The t table can be find [here](https://s3.amazonaws.com/udacity-hosted-downloads/t-table.jpg)."
   ]
  },
  {
   "cell_type": "code",
   "execution_count": 112,
   "metadata": {
    "collapsed": true
   },
   "outputs": [],
   "source": [
    "t_critical_negative = - 2.069\n",
    "t_critical_positive =  2.069"
   ]
  },
  {
   "cell_type": "markdown",
   "metadata": {},
   "source": [
    "Let's compute the confidence interval:"
   ]
  },
  {
   "cell_type": "code",
   "execution_count": 113,
   "metadata": {
    "collapsed": false
   },
   "outputs": [
    {
     "name": "stdout",
     "output_type": "stream",
     "text": [
      "Confidence interval: [-10.019,-5.91]\n"
     ]
    }
   ],
   "source": [
    "lower_bound= (Xc-Xinc) + t_critical_negative*(S/sqrt(len(data)))\n",
    "higher_bound= (Xc-Xinc) + t_critical_positive*(S/sqrt(len(data)))\n",
    "\n",
    "print \"Confidence interval:\", \"[\"+str(round(lower_bound,3))+\",\"+ str(round(higher_bound,3))+\"]\""
   ]
  },
  {
   "cell_type": "markdown",
   "metadata": {},
   "source": [
    "Because t-statistic < -t-critical it means that the t-statistic is in the the critical region so we should reject the null hypothesis. \n",
    "\n",
    "So it means that the color of the ink in which the word is printed has an impact on the time it takes to read the list of word.\n",
    "\n",
    "The result match the expectations as we could anticipate that it takes more time to read the list when the names do not match the colors in which they are printed that may increase errors or confusion to read the list."
   ]
  },
  {
   "cell_type": "code",
   "execution_count": null,
   "metadata": {
    "collapsed": true
   },
   "outputs": [],
   "source": []
  }
 ],
 "metadata": {
  "kernelspec": {
   "display_name": "Python 2",
   "language": "python",
   "name": "python2"
  },
  "language_info": {
   "codemirror_mode": {
    "name": "ipython",
    "version": 2
   },
   "file_extension": ".py",
   "mimetype": "text/x-python",
   "name": "python",
   "nbconvert_exporter": "python",
   "pygments_lexer": "ipython2",
   "version": "2.7.9"
  }
 },
 "nbformat": 4,
 "nbformat_minor": 0
}
